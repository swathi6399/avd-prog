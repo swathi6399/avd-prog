{
 "cells": [
  {
   "cell_type": "markdown",
   "metadata": {},
   "source": [
    "# CSE-221710302022-G.SWATHI"
   ]
  },
  {
   "cell_type": "code",
   "execution_count": 1,
   "metadata": {},
   "outputs": [
    {
     "name": "stdout",
     "output_type": "stream",
     "text": [
      "6\n",
      "factorial  is  720\n"
     ]
    }
   ],
   "source": [
    "#Create a function to find Factorial of a number using Recursion\n",
    "def factorial(x):\n",
    "    if x==1:\n",
    "        return 1\n",
    "    else:\n",
    "        return x*factorial(x-1)\n",
    "\n",
    "n=int(input(''))\n",
    "f=factorial(n)\n",
    "print (\"factorial  is \",f)"
   ]
  },
  {
   "cell_type": "code",
   "execution_count": 2,
   "metadata": {},
   "outputs": [
    {
     "name": "stdout",
     "output_type": "stream",
     "text": [
      "5\n",
      "Fibonacci sequence:\n",
      "0 1 1 2 3 "
     ]
    }
   ],
   "source": [
    "#Create a function and display ‘n’ Fibonacci numbers using Recursion\n",
    "def fib(n):\n",
    "    if n <= 1:  \n",
    "        return n  \n",
    "    else:  \n",
    "        return(fib(n-1) + fib(n-2))  \n",
    "k= int(input(\"\"))  \n",
    "print(\"Fibonacci sequence:\")  \n",
    "for i in range (k):  \n",
    "       print(fib(i),end=\" \")"
   ]
  },
  {
   "cell_type": "code",
   "execution_count": 3,
   "metadata": {},
   "outputs": [
    {
     "name": "stdout",
     "output_type": "stream",
     "text": [
      "no ofelements 5\n",
      "enter values 1\n",
      "enter values 2\n",
      "enter values 3\n",
      "enter values 4\n",
      "enter values 5\n",
      "sum of all elements is :  15\n"
     ]
    }
   ],
   "source": [
    "#Print sum of list of elements without using sum() function\n",
    "num= []\n",
    "total = 0\n",
    "j = 0\n",
    "n = int(input(\"no ofelements \"))\n",
    "for i in range(1, n + 1):\n",
    "    value = int(input(\"enter values \" ))\n",
    "    num.append(value)\n",
    "\n",
    "while(j < n):\n",
    "    total = total + num[j]\n",
    "    j = j + 1\n",
    "print(\"sum of all elements is : \", total)"
   ]
  },
  {
   "cell_type": "code",
   "execution_count": 4,
   "metadata": {},
   "outputs": [
    {
     "name": "stdout",
     "output_type": "stream",
     "text": [
      "total number of elements : 4\n",
      "values are: 6\n",
      "values are: 5\n",
      "values are: 4\n",
      "values are: 3\n",
      "\n",
      "Even Numbers are\n",
      "6   4   "
     ]
    }
   ],
   "source": [
    "#print only even numbers from the list\n",
    "num = []\n",
    "n = int(input(\"total number of elements : \"))\n",
    "for i in range(1, n + 1):\n",
    "    value = int(input(\"values are: \" ))\n",
    "    num.append(value)\n",
    "print(\"\\nEven Numbers are\")\n",
    "for j in range(n):\n",
    "    if(num[j] % 2 == 0):\n",
    "        print(num[j], end = '   ')"
   ]
  },
  {
   "cell_type": "code",
   "execution_count": 5,
   "metadata": {},
   "outputs": [
    {
     "name": "stdout",
     "output_type": "stream",
     "text": [
      "2\n",
      "1\n"
     ]
    }
   ],
   "source": [
    "#Write a Python program to get the smallest number from a list and display index of smallest element of the list\n",
    "\n",
    "list=[2,3,1,4,5]\n",
    "print(list.index(min(list)))\n",
    "print(min(list))"
   ]
  },
  {
   "cell_type": "code",
   "execution_count": 6,
   "metadata": {},
   "outputs": [
    {
     "name": "stdout",
     "output_type": "stream",
     "text": [
      "Enter string: madam\n",
      "it is palindrome\n"
     ]
    }
   ],
   "source": [
    "#Write a Python function that checks whether a passed string is palindrome or not.\n",
    "def pal(s):\n",
    "    if len(s) < 1:\n",
    "        return True\n",
    "    else:\n",
    "        if s[0] == s[-1]:\n",
    "            return pal(s[1:-1])\n",
    "        else:\n",
    "            return False\n",
    "a=str(input(\"Enter string: \"))\n",
    "if(pal(a)==True):\n",
    "    print(\"it is palindrome\")\n",
    "else:\n",
    "    print(\"not a palindrome\")"
   ]
  },
  {
   "cell_type": "code",
   "execution_count": 1,
   "metadata": {},
   "outputs": [
    {
     "name": "stdout",
     "output_type": "stream",
     "text": [
      "123\n",
      " is not a adam number\n"
     ]
    }
   ],
   "source": [
    "#Write a python function to check whether the given number is Adam number or not\n",
    "\n",
    "n =input()\n",
    "rev=n[::-1]\n",
    "nsquare=int(n)**2\n",
    "revsquare=int(rev )**2\n",
    "if int(nsquare )==int(str(revsquare)[::-1]):\n",
    "   print(\" is a adam number\")\n",
    "else:\n",
    "   print(\" is not a adam number\")"
   ]
  },
  {
   "cell_type": "code",
   "execution_count": null,
   "metadata": {},
   "outputs": [],
   "source": []
  }
 ],
 "metadata": {
  "kernelspec": {
   "display_name": "Python 3",
   "language": "python",
   "name": "python3"
  },
  "language_info": {
   "codemirror_mode": {
    "name": "ipython",
    "version": 3
   },
   "file_extension": ".py",
   "mimetype": "text/x-python",
   "name": "python",
   "nbconvert_exporter": "python",
   "pygments_lexer": "ipython3",
   "version": "3.7.4"
  }
 },
 "nbformat": 4,
 "nbformat_minor": 2
}
