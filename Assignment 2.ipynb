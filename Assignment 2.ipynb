{
 "cells": [
  {
   "cell_type": "code",
   "execution_count": 1,
   "metadata": {},
   "outputs": [
    {
     "name": "stdout",
     "output_type": "stream",
     "text": [
      "enter the stringswathi\n",
      "Total number of vowel and consonant are\n",
      "2\n",
      "4\n",
      "0\n"
     ]
    }
   ],
   "source": [
    "vcount = 0;  \n",
    "ccount = 0;  \n",
    "scount=0;\n",
    "str=input(\"enter the string\")\n",
    "str = str.lower();  \n",
    "for i in range(0,len(str)):     \n",
    "    if str[i] in ('a',\"e\",\"i\",\"o\",\"u\"):  \n",
    "        vcount += 1;  \n",
    "    elif (str[i] >= 'a' and str[i] <= 'z'):  \n",
    "        ccount += 1;\n",
    "    else:\n",
    "        scount+=1\n",
    "        \n",
    "print(\"Total number of vowel and consonant are\" );  \n",
    "print(vcount);  \n",
    "print(ccount);\n",
    "print(scount)"
   ]
  },
  {
   "cell_type": "code",
   "execution_count": 3,
   "metadata": {},
   "outputs": [
    {
     "name": "stdout",
     "output_type": "stream",
     "text": [
      "enter the stringaabbcc\n",
      "1\n"
     ]
    }
   ],
   "source": [
    "a=input(\"enter the string\")\n",
    "n=len(a)\n",
    "c=0\n",
    "i=0\n",
    "while(i<n-1):\n",
    "    if a[i]=='a' and a[i+1]=='a':\n",
    "        c+=1\n",
    "        i=i+1\n",
    "    i+=1\n",
    "print(c)"
   ]
  },
  {
   "cell_type": "code",
   "execution_count": 4,
   "metadata": {},
   "outputs": [
    {
     "name": "stdout",
     "output_type": "stream",
     "text": [
      "enter the string()()\n",
      "2\n"
     ]
    }
   ],
   "source": [
    "a=input(\"enter the string\")\n",
    "n=len(a)\n",
    "c=0\n",
    "i=0\n",
    "while(i<n):\n",
    "    if a[i]=='(':\n",
    "        c+=1\n",
    "    else:\n",
    "        c-=1\n",
    "    i+=1\n",
    "if c==0:\n",
    "    print(n//2)\n",
    "elif c<0:\n",
    "    print(\") are\",-c , \"more\")\n",
    "else:\n",
    "    print(\"( are\", c ,\"more\" )"
   ]
  },
  {
   "cell_type": "code",
   "execution_count": 2,
   "metadata": {},
   "outputs": [
    {
     "name": "stdout",
     "output_type": "stream",
     "text": [
      "enter the value9\n",
      "enter the value10\n",
      "1\n"
     ]
    }
   ],
   "source": [
    "n1=int(input('enter the value'))\n",
    "n2=int(input(\"enter the value\"))\n",
    "c=0\n",
    "while True:\n",
    "    s2=str(n1)\n",
    "    if s2==s2[::-1]:\n",
    "        c+=1\n",
    "    if n1==n2-1:\n",
    "        break\n",
    "    n1+=1\n",
    "    i=n1\n",
    "print(c)"
   ]
  },
  {
   "cell_type": "code",
   "execution_count": 1,
   "metadata": {},
   "outputs": [
    {
     "name": "stdout",
     "output_type": "stream",
     "text": [
      "enter the string127\n",
      "848\n"
     ]
    }
   ],
   "source": [
    "s1=int(input(\"enter the string\"))\n",
    "s2=str(s1)\n",
    "if s2==s2[::-1]:\n",
    "    print(\"palidrome\")\n",
    "else:\n",
    "    while s2!=s2[::-1]:\n",
    "        s3=int(s2[::-1])\n",
    "        s1+=s3\n",
    "        s2=str(s1)\n",
    "print(s1)"
   ]
  },
  {
   "cell_type": "code",
   "execution_count": 3,
   "metadata": {},
   "outputs": [
    {
     "name": "stdout",
     "output_type": "stream",
     "text": [
      "enter the stringsabdjsdh1234\n",
      "10\n"
     ]
    }
   ],
   "source": [
    "s=input(\"enter the string\")\n",
    "n=len(s)\n",
    "c=0\n",
    "for i in range(0,n):\n",
    "    if s[i] in ('1','2','3','4','5','6','7','8','9'):\n",
    "        s1=int(s[i])\n",
    "        c+=s1\n",
    "print(c)"
   ]
  },
  {
   "cell_type": "code",
   "execution_count": 4,
   "metadata": {},
   "outputs": [
    {
     "name": "stdout",
     "output_type": "stream",
     "text": [
      "Enter score between 0.0 and 1.0: 0.5\n",
      "F\n"
     ]
    }
   ],
   "source": [
    "score = float(input(\"Enter score between 0.0 and 1.0: \"))\n",
    "if score>1.0 or score<0.0 :\n",
    "    print(\"error\")\n",
    "elif score>=0.9 :\n",
    "    print('A')\n",
    "elif score>=0.8 :\n",
    "    print('B')\n",
    "elif score>=0.7 :\n",
    "    print('C')\n",
    "elif score>=0.6 :\n",
    "    print('D')\n",
    "else :\n",
    "    print('F')"
   ]
  },
  {
   "cell_type": "code",
   "execution_count": 5,
   "metadata": {},
   "outputs": [
    {
     "name": "stdout",
     "output_type": "stream",
     "text": [
      "FIZZBUZZ\n",
      "1\n",
      "2\n",
      "FIZZ\n",
      "4\n",
      "BUZZ\n",
      "FIZZ\n",
      "7\n",
      "8\n",
      "FIZZ\n",
      "BUZZ\n",
      "11\n",
      "FIZZ\n",
      "13\n",
      "14\n",
      "FIZZBUZZ\n",
      "16\n",
      "17\n",
      "FIZZ\n",
      "19\n",
      "BUZZ\n",
      "FIZZ\n",
      "22\n",
      "23\n",
      "FIZZ\n",
      "BUZZ\n",
      "26\n",
      "FIZZ\n",
      "28\n",
      "29\n",
      "FIZZBUZZ\n",
      "31\n",
      "32\n",
      "FIZZ\n",
      "34\n",
      "BUZZ\n",
      "FIZZ\n",
      "37\n",
      "38\n",
      "FIZZ\n",
      "BUZZ\n",
      "41\n",
      "FIZZ\n",
      "43\n",
      "44\n",
      "FIZZBUZZ\n",
      "46\n",
      "47\n",
      "FIZZ\n",
      "49\n"
     ]
    }
   ],
   "source": [
    "i=0\n",
    "while i<50:\n",
    "    if(i%3==0 and i%5==0):\n",
    "        print(\"FIZZBUZZ\")\n",
    "    elif i%5==0:\n",
    "        print(\"BUZZ\")\n",
    "    elif i%3==0:\n",
    "        print(\"FIZZ\")\n",
    "    else:\n",
    "        print(i)\n",
    "    i+=1"
   ]
  },
  {
   "cell_type": "code",
   "execution_count": 6,
   "metadata": {},
   "outputs": [
    {
     "name": "stdout",
     "output_type": "stream",
     "text": [
      "enter the first input10\n",
      "enter the first input12\n",
      "enter the first input13\n",
      "median is 12\n"
     ]
    }
   ],
   "source": [
    "n1=int(input(\"enter the first input\"))\n",
    "n2=int(input(\"enter the first input\"))\n",
    "n3=int(input(\"enter the first input\"))\n",
    "if(n1>n3 and n1>n2):\n",
    "    if n2<n3:\n",
    "        print(\"median is\",n3)\n",
    "    else:\n",
    "        print(\"median is\",n2)\n",
    "if(n2>n3 and n2>n1):\n",
    "    if n1<n3:\n",
    "        print(\"median is\",n3)\n",
    "    else:\n",
    "        print(\"median is\",n1)\n",
    "if(n3>n1 and n3>n2):\n",
    "    if n2<n1:\n",
    "        print(\"median is\",n1)\n",
    "    else:\n",
    "        print(\"median is\",n2)"
   ]
  },
  {
   "cell_type": "code",
   "execution_count": 1,
   "metadata": {},
   "outputs": [
    {
     "name": "stdout",
     "output_type": "stream",
     "text": [
      "puboif\n"
     ]
    }
   ],
   "source": [
    "ch = 'o'\n",
    "ab = 'r'\n",
    "bc = 'a'\n",
    "cd = 'n'\n",
    "de = 'g'\n",
    "ef = 'e'\n",
    "x = chr(ord(ch) + 1) \n",
    "y = chr(ord(ab) + 3) \n",
    "z = chr(ord(bc) + 1) \n",
    "a = chr(ord(cd) + 1) \n",
    "b = chr(ord(de) + 2) \n",
    "c = chr(ord(ef) + 1) \n",
    "s=x+y+z+a+b+c\n",
    "print(s)"
   ]
  },
  {
   "cell_type": "code",
   "execution_count": null,
   "metadata": {},
   "outputs": [],
   "source": []
  }
 ],
 "metadata": {
  "kernelspec": {
   "display_name": "Python 3",
   "language": "python",
   "name": "python3"
  },
  "language_info": {
   "codemirror_mode": {
    "name": "ipython",
    "version": 3
   },
   "file_extension": ".py",
   "mimetype": "text/x-python",
   "name": "python",
   "nbconvert_exporter": "python",
   "pygments_lexer": "ipython3",
   "version": "3.7.4"
  }
 },
 "nbformat": 4,
 "nbformat_minor": 2
}
